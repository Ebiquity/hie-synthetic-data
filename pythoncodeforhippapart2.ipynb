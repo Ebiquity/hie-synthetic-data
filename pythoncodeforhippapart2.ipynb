{
  "nbformat": 4,
  "nbformat_minor": 0,
  "metadata": {
    "colab": {
      "provenance": []
    },
    "kernelspec": {
      "name": "python3",
      "display_name": "Python 3"
    },
    "language_info": {
      "name": "python"
    }
  },
  "cells": [
    {
      "cell_type": "code",
      "execution_count": 22,
      "metadata": {
        "colab": {
          "base_uri": "https://localhost:8080/"
        },
        "id": "IgWBMzcYZwgt",
        "outputId": "92a63610-7e1d-4dcb-aeef-5c51e571e18d"
      },
      "outputs": [
        {
          "output_type": "stream",
          "name": "stdout",
          "text": [
            "Drive already mounted at /content/drive; to attempt to forcibly remount, call drive.mount(\"/content/drive\", force_remount=True).\n"
          ]
        }
      ],
      "source": [
        "from google.colab import drive\n",
        "import numpy as np\n",
        "drive.mount(\"/content/drive\")"
      ]
    },
    {
      "cell_type": "code",
      "source": [
        "!pip install rdflib\n"
      ],
      "metadata": {
        "colab": {
          "base_uri": "https://localhost:8080/"
        },
        "id": "FdEO7r3UcNtq",
        "outputId": "2d535847-007d-49f3-e2f6-41a66e3d8293"
      },
      "execution_count": 23,
      "outputs": [
        {
          "output_type": "stream",
          "name": "stdout",
          "text": [
            "Requirement already satisfied: rdflib in /usr/local/lib/python3.10/dist-packages (7.0.0)\n",
            "Requirement already satisfied: isodate<0.7.0,>=0.6.0 in /usr/local/lib/python3.10/dist-packages (from rdflib) (0.6.1)\n",
            "Requirement already satisfied: pyparsing<4,>=2.1.0 in /usr/local/lib/python3.10/dist-packages (from rdflib) (3.1.1)\n",
            "Requirement already satisfied: six in /usr/local/lib/python3.10/dist-packages (from isodate<0.7.0,>=0.6.0->rdflib) (1.16.0)\n"
          ]
        }
      ]
    },
    {
      "cell_type": "code",
      "source": [
        "import pandas as pd\n",
        "from rdflib import Graph, Literal, Namespace, URIRef\n",
        "\n",
        "# Create an RDF graph\n",
        "g = Graph()\n",
        "\n",
        "# Define a namespace for your data\n",
        "ns = Namespace(\"http://example.org/your_namespace#\")\n",
        "\n",
        "# Specify the directory path where your files are located in Google Drive\n",
        "directory_path = '/content/drive/My Drive/Hippa part2/data/'\n",
        "\n",
        "# Specify the CSV file name (replace 'your_data.csv' with your actual file name)\n",
        "csv_file_name = 'Data.csv'\n",
        "\n",
        "# Read your CSV data into a DataFrame with the 'latin-1' encoding\n",
        "df = pd.read_csv(directory_path + 'Data.csv', encoding='latin-1')\n",
        "\n",
        "# Create a single node for \"hippapart2\"\n",
        "hippa_part2 = URIRef(ns + 'hippapart2')\n",
        "\n",
        "# Iterate through the DataFrame rows and convert to RDF triples\n",
        "for index, row in df.iterrows():\n",
        "    subject = URIRef(ns + row['Code'])\n",
        "    description = Literal(row['Description'])\n",
        "    code_system = Literal(row['CodeSystem'])\n",
        "    code_type = Literal(row['CodeType'])\n",
        "    hipaa_value_set_name = Literal(row['HIPPAValueSetName'])\n",
        "\n",
        "    # Add RDF triples using human-readable predicate names\n",
        "    g.add((subject, URIRef(\"CODE_IS_A_SUBTYPE_OF\"), code_system))\n",
        "    g.add((subject, URIRef(\"REPRESENTING_A\"), code_type))\n",
        "    g.add((subject, URIRef(\"RELATED_TO\"), hipaa_value_set_name))\n",
        "    g.add((subject, URIRef(\"DESCRIBES\"), description))\n",
        "\n",
        "    # Connect each code node to \"hippapart2\"\n",
        "    g.add((hippa_part2, URIRef(\"INCLUDES\"), subject))\n",
        "\n",
        "# Serialize the RDF graph to Turtle format\n",
        "rdf_data = g.serialize(format='turtle')\n",
        "\n",
        "# Save the RDF data to a file\n",
        "with open('output.ttl', 'w', encoding='utf-8') as f:\n",
        "    f.write(rdf_data)\n"
      ],
      "metadata": {
        "id": "uflfyLq48uCQ"
      },
      "execution_count": 24,
      "outputs": []
    },
    {
      "cell_type": "code",
      "source": [
        "import os\n",
        "\n",
        "# Get the current working directory\n",
        "current_directory = os.getcwd()\n",
        "\n",
        "# List the files in the current directory\n",
        "files_in_directory = os.listdir(current_directory)\n",
        "\n",
        "files_in_directory\n"
      ],
      "metadata": {
        "colab": {
          "base_uri": "https://localhost:8080/"
        },
        "id": "OObae6FWZ5Dz",
        "outputId": "fc26d40a-f03a-442d-bc28-db8bed7a94a4"
      },
      "execution_count": 25,
      "outputs": [
        {
          "output_type": "execute_result",
          "data": {
            "text/plain": [
              "['.config', 'drive', 'output.ttl', 'sample_data']"
            ]
          },
          "metadata": {},
          "execution_count": 25
        }
      ]
    },
    {
      "cell_type": "code",
      "source": [
        "# Specify a custom directory path and file name\n",
        "output_file_path = '/content/drive/My Drive/Hippa part2/data/output2.ttl'\n",
        "\n",
        "# Save the RDF data to the custom file path\n",
        "with open(output_file_path, 'w', encoding='utf-8') as    f:\n",
        "    f.write(rdf_data)"
      ],
      "metadata": {
        "id": "enEKzArCZ5Gj"
      },
      "execution_count": 26,
      "outputs": []
    },
    {
      "cell_type": "code",
      "source": [
        "try:\n",
        "    with open(output_file_path, 'w', encoding='utf-8') as f:\n",
        "        f.write(rdf_data)\n",
        "except Exception as e:\n",
        "    print(f\"Error: {e}\")\n"
      ],
      "metadata": {
        "id": "3AgCDNaoZ5JE"
      },
      "execution_count": 27,
      "outputs": []
    },
    {
      "cell_type": "code",
      "source": [
        "from rdflib.plugins.sparql import prepareQuery\n",
        "\n",
        "# Define the SPARQL query to retrieve all predicates\n",
        "query = prepareQuery(\n",
        "    \"\"\"\n",
        "    SELECT DISTINCT ?predicate\n",
        "    WHERE {\n",
        "        ?s ?predicate ?o .\n",
        "    }\n",
        "    \"\"\",\n",
        "    initNs={\"ns\": ns}  # Replace \"ns\" with your namespace object\n",
        ")\n",
        "\n",
        "# Execute the query and print the results\n",
        "for row in g.query(query):\n",
        "    print(row.predicate)\n"
      ],
      "metadata": {
        "id": "C_OW1QY1Z5Ls",
        "colab": {
          "base_uri": "https://localhost:8080/"
        },
        "outputId": "a1bd8574-6dd4-4fc0-849a-59a98c49db46"
      },
      "execution_count": 28,
      "outputs": [
        {
          "output_type": "stream",
          "name": "stdout",
          "text": [
            "RELATED_TO\n",
            "CODE_IS_A_SUBTYPE_OF\n",
            "DESCRIBES\n",
            "REPRESENTING_A\n",
            "INCLUDES\n"
          ]
        }
      ]
    },
    {
      "cell_type": "code",
      "source": [],
      "metadata": {
        "id": "tuP3wBQRZ5Ol"
      },
      "execution_count": 28,
      "outputs": []
    },
    {
      "cell_type": "code",
      "source": [],
      "metadata": {
        "id": "RJn6N_w-Z5RP"
      },
      "execution_count": 28,
      "outputs": []
    },
    {
      "cell_type": "code",
      "source": [],
      "metadata": {
        "id": "4TLjZD7IZ5T8"
      },
      "execution_count": 28,
      "outputs": []
    },
    {
      "cell_type": "code",
      "source": [],
      "metadata": {
        "id": "WsEwVI4JZ5WX"
      },
      "execution_count": 28,
      "outputs": []
    },
    {
      "cell_type": "code",
      "source": [],
      "metadata": {
        "id": "tZDoNbQMZ5ZN"
      },
      "execution_count": 28,
      "outputs": []
    }
  ]
}