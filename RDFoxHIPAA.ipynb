{
  "nbformat": 4,
  "nbformat_minor": 0,
  "metadata": {
    "colab": {
      "provenance": []
    },
    "kernelspec": {
      "name": "python3",
      "display_name": "Python 3"
    },
    "language_info": {
      "name": "python"
    }
  },
  "cells": [
    {
      "cell_type": "code",
      "execution_count": 40,
      "metadata": {
        "colab": {
          "base_uri": "https://localhost:8080/"
        },
        "id": "IgWBMzcYZwgt",
        "outputId": "eefa18b2-4bfd-4f18-dc2e-1ab66fb2c10a"
      },
      "outputs": [
        {
          "output_type": "stream",
          "name": "stdout",
          "text": [
            "Drive already mounted at /content/drive; to attempt to forcibly remount, call drive.mount(\"/content/drive\", force_remount=True).\n"
          ]
        }
      ],
      "source": [
        "from google.colab import drive\n",
        "import numpy as np\n",
        "drive.mount(\"/content/drive\")"
      ]
    },
    {
      "cell_type": "code",
      "source": [
        "!pip install rdflib\n"
      ],
      "metadata": {
        "colab": {
          "base_uri": "https://localhost:8080/"
        },
        "id": "FdEO7r3UcNtq",
        "outputId": "ca8f7e90-1e2d-4f9b-ed75-665d47c300a8"
      },
      "execution_count": 41,
      "outputs": [
        {
          "output_type": "stream",
          "name": "stdout",
          "text": [
            "Requirement already satisfied: rdflib in /usr/local/lib/python3.10/dist-packages (7.0.0)\n",
            "Requirement already satisfied: isodate<0.7.0,>=0.6.0 in /usr/local/lib/python3.10/dist-packages (from rdflib) (0.6.1)\n",
            "Requirement already satisfied: pyparsing<4,>=2.1.0 in /usr/local/lib/python3.10/dist-packages (from rdflib) (3.1.1)\n",
            "Requirement already satisfied: six in /usr/local/lib/python3.10/dist-packages (from isodate<0.7.0,>=0.6.0->rdflib) (1.16.0)\n"
          ]
        }
      ]
    },
    {
      "cell_type": "code",
      "source": [],
      "metadata": {
        "id": "uflfyLq48uCQ"
      },
      "execution_count": 41,
      "outputs": []
    },
    {
      "cell_type": "code",
      "source": [
        "import pandas as pd\n",
        "from rdflib import Graph, Literal, Namespace, URIRef\n",
        "\n",
        "# Create an RDF graph\n",
        "g = Graph()\n",
        "\n",
        "# Define a namespace for medical code data\n",
        "ns = Namespace(\"http://example.org/hippapart2_codes#\")\n",
        "\n",
        "# Specify the directory path where your files are located\n",
        "directory_path = '/content/drive/My Drive/Hippa part2/data/'\n",
        "\n",
        "# Specify the CSV file name (replace 'your_data.csv' with your actual file name)\n",
        "csv_file_name = 'Data.csv'\n",
        "\n",
        "# Read your CSV data into a DataFrame with the 'latin-1' encoding\n",
        "df = pd.read_csv(directory_path + 'Data.csv', encoding='latin-1')\n",
        "\n",
        "# Create a single node for \"hippapart2\"\n",
        "hippa_part2 = URIRef(ns + 'hippapart2')\n",
        "\n",
        "# Connect all RDF triples to \"hippapart2\"\n",
        "for index, row in df.iterrows():\n",
        "    subject = URIRef(ns + row['Code'])\n",
        "    description = Literal(row['Description'])\n",
        "    code_system = Literal(row['CodeSystem'])\n",
        "    code_type = Literal(row['CodeType'])\n",
        "    hipaa_value_set_name = Literal(row['HIPPAValueSetName'])\n",
        "\n",
        "    # Add RDF triples using human-readable predicate names\n",
        "    g.add((subject, URIRef(\"CODE_IS_A_SUBTYPE_OF\"), code_system))\n",
        "    g.add((subject, URIRef(\"REPRESENTING_A\"), code_type))\n",
        "    g.add((subject, URIRef(\"RELATED_TO\"), hipaa_value_set_name))\n",
        "    g.add((subject, URIRef(\"DESCRIBES\"), description))\n",
        "\n",
        "    # Connect each code node to \"hippapart2\" using your namespace for relationships\n",
        "    g.add((hippa_part2, ns[\"INCLUDES\"], subject))\n",
        "\n",
        "# Serialize the RDF graph to Turtle format\n",
        "rdf_data = g.serialize(format='turtle')\n",
        "\n",
        "# Specify the output file path\n",
        "output_file_path = '/content/drive/My Drive/Hippa part2/data/hippapart2.ttl'\n",
        "\n",
        "# Save the RDF data to a file with error handling\n",
        "try:\n",
        "    with open(output_file_path, 'w', encoding='utf-8') as f:\n",
        "        f.write(rdf_data)\n",
        "    print(\"RDF data saved to\", output_file_path)\n",
        "except Exception as e:\n",
        "    print(\"Error:\", e)\n"
      ],
      "metadata": {
        "id": "enEKzArCZ5Gj",
        "colab": {
          "base_uri": "https://localhost:8080/"
        },
        "outputId": "5d483c37-3902-406a-ea28-a1d21c5de0a1"
      },
      "execution_count": 42,
      "outputs": [
        {
          "output_type": "stream",
          "name": "stdout",
          "text": [
            "RDF data saved to /content/drive/My Drive/Hippa part2/data/hippapart2.ttl\n"
          ]
        }
      ]
    },
    {
      "cell_type": "code",
      "source": [
        "\n"
      ],
      "metadata": {
        "id": "3AgCDNaoZ5JE"
      },
      "execution_count": 42,
      "outputs": []
    },
    {
      "cell_type": "code",
      "source": [],
      "metadata": {
        "id": "RJn6N_w-Z5RP"
      },
      "execution_count": 42,
      "outputs": []
    },
    {
      "cell_type": "code",
      "source": [],
      "metadata": {
        "id": "4TLjZD7IZ5T8"
      },
      "execution_count": 42,
      "outputs": []
    },
    {
      "cell_type": "code",
      "source": [],
      "metadata": {
        "id": "WsEwVI4JZ5WX"
      },
      "execution_count": 42,
      "outputs": []
    },
    {
      "cell_type": "code",
      "source": [],
      "metadata": {
        "id": "tZDoNbQMZ5ZN"
      },
      "execution_count": 42,
      "outputs": []
    }
  ]
}